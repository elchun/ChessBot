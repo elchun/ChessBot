{
 "cells": [
  {
   "cell_type": "code",
   "execution_count": 1,
   "metadata": {},
   "outputs": [
    {
     "ename": "ModuleNotFoundError",
     "evalue": "No module named 'ipython'",
     "output_type": "error",
     "traceback": [
      "\u001b[0;31m---------------------------------------------------------------------------\u001b[0m",
      "\u001b[0;31mModuleNotFoundError\u001b[0m                       Traceback (most recent call last)",
      "Cell \u001b[0;32mIn [1], line 5\u001b[0m\n\u001b[1;32m      3\u001b[0m \u001b[38;5;28;01mimport\u001b[39;00m \u001b[38;5;21;01mos\u001b[39;00m\n\u001b[1;32m      4\u001b[0m \u001b[38;5;28;01mimport\u001b[39;00m \u001b[38;5;21;01mpydot\u001b[39;00m\n\u001b[0;32m----> 5\u001b[0m \u001b[38;5;28;01mfrom\u001b[39;00m \u001b[38;5;21;01mipython\u001b[39;00m\u001b[38;5;21;01m.\u001b[39;00m\u001b[38;5;21;01mdisplay\u001b[39;00m \u001b[38;5;28;01mimport\u001b[39;00m html, svg, display\n\u001b[1;32m      6\u001b[0m \u001b[38;5;28;01mimport\u001b[39;00m \u001b[38;5;21;01mos\u001b[39;00m\u001b[38;5;21;01m.\u001b[39;00m\u001b[38;5;21;01mpath\u001b[39;00m \u001b[38;5;28;01mas\u001b[39;00m \u001b[38;5;21;01mosp\u001b[39;00m\n\u001b[1;32m      8\u001b[0m \u001b[38;5;28;01mfrom\u001b[39;00m \u001b[38;5;21;01mpydrake\u001b[39;00m\u001b[38;5;21;01m.\u001b[39;00m\u001b[38;5;21;01mcommon\u001b[39;00m \u001b[38;5;28;01mimport\u001b[39;00m findresourceorthrow, temp_directory\n",
      "\u001b[0;31mModuleNotFoundError\u001b[0m: No module named 'ipython'"
     ]
    }
   ],
   "source": [
    "# import some basic libraries and functions for this tutorial.\n",
    "import numpy as np\n",
    "import os\n",
    "import pydot\n",
    "from ipython.display import html, svg, display\n",
    "import os.path as osp\n",
    "\n",
    "from pydrake.common import findresourceorthrow, temp_directory\n",
    "from pydrake.geometry import (\n",
    "    meshcatvisualizer,\n",
    "    meshcatvisualizerparams,\n",
    "    role,\n",
    "    startmeshcat,\n",
    ")\n",
    "from pydrake.math import rigidtransform, rollpitchyaw\n",
    "from pydrake.multibody.meshcat import jointsliders\n",
    "from pydrake.multibody.parsing import parser\n",
    "from pydrake.multibody.plant import addmultibodyplantscenegraph\n",
    "from pydrake.systems.analysis import simulator\n",
    "from pydrake.systems.framework import diagrambuilder\n",
    "\n",
    "from pydrake.trajectories import piecewisepolynomial\n",
    "\n",
    "from pydrake.all import (addmultibodyplantscenegraph, diagrambuilder,\n",
    "                         findresourceorthrow, generatehtml,\n",
    "                         inversedynamicscontroller, meshcatvisualizer,\n",
    "                         meshcatvisualizerparams, multibodyplant, parser,\n",
    "                         simulator, startmeshcat, trajectorysource)"
   ]
  },
  {
   "cell_type": "code",
   "execution_count": null,
   "metadata": {},
   "outputs": [],
   "source": [
    "# Start the visualizer.\n",
    "meshcat = StartMeshcat()"
   ]
  }
 ],
 "metadata": {
  "kernelspec": {
   "display_name": "Python 3 (ipykernel)",
   "language": "python",
   "name": "python3"
  },
  "language_info": {
   "codemirror_mode": {
    "name": "ipython",
    "version": 3
   },
   "file_extension": ".py",
   "mimetype": "text/x-python",
   "name": "python",
   "nbconvert_exporter": "python",
   "pygments_lexer": "ipython3",
   "version": "3.10.8"
  },
  "vscode": {
   "interpreter": {
    "hash": "51853c7f9cded821d975a103cbd2331a78a62a77a1415e45fc0eefa8ddb1136e"
   }
  }
 },
 "nbformat": 4,
 "nbformat_minor": 2
}
