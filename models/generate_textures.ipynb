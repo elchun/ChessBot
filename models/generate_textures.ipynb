{
 "cells": [
  {
   "cell_type": "code",
   "execution_count": 5,
   "metadata": {},
   "outputs": [],
   "source": [
    "import shutil"
   ]
  },
  {
   "cell_type": "code",
   "execution_count": 12,
   "metadata": {},
   "outputs": [],
   "source": [
    "B_base_texture_fn = 't_dark_wood.png'\n",
    "W_base_texture_fn = 't_light_wood.png'\n",
    "\n",
    "B_output_texture_fns = [\n",
    "    'Bishop_B.png',\n",
    "    'King_B.png',\n",
    "    'Knight_B.png',\n",
    "    'Pawn_B.png',\n",
    "    'Queen_B.png',\n",
    "    'Rook_B.png',\n",
    "]\n",
    "\n",
    "W_output_texture_fns = [\n",
    "    'Bishop_W.png',\n",
    "    'King_W.png',\n",
    "    'Knight_W.png',\n",
    "    'Pawn_W.png',\n",
    "    'Queen_W.png',\n",
    "    'Rook_W.png',\n",
    "]"
   ]
  },
  {
   "cell_type": "code",
   "execution_count": 14,
   "metadata": {},
   "outputs": [],
   "source": [
    "for output_fn in B_output_texture_fns:\n",
    "    shutil.copyfile(B_base_texture_fn, output_fn)"
   ]
  },
  {
   "cell_type": "code",
   "execution_count": 13,
   "metadata": {},
   "outputs": [],
   "source": [
    "for output_fn in W_output_texture_fns:\n",
    "    shutil.copyfile(W_base_texture_fn, output_fn)"
   ]
  },
  {
   "cell_type": "code",
   "execution_count": null,
   "metadata": {},
   "outputs": [],
   "source": []
  }
 ],
 "metadata": {
  "kernelspec": {
   "display_name": "Python 3.10.8 ('env': venv)",
   "language": "python",
   "name": "python3"
  },
  "language_info": {
   "codemirror_mode": {
    "name": "ipython",
    "version": 3
   },
   "file_extension": ".py",
   "mimetype": "text/x-python",
   "name": "python",
   "nbconvert_exporter": "python",
   "pygments_lexer": "ipython3",
   "version": "3.10.8"
  },
  "orig_nbformat": 4,
  "vscode": {
   "interpreter": {
    "hash": "51853c7f9cded821d975a103cbd2331a78a62a77a1415e45fc0eefa8ddb1136e"
   }
  }
 },
 "nbformat": 4,
 "nbformat_minor": 2
}
