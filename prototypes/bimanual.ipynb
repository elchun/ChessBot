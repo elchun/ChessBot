{
  "cells": [
    {
      "cell_type": "markdown",
      "metadata": {
        "colab_type": "text",
        "id": "EgiF12Hf1Dhs"
      },
      "source": [
        "This notebook provides examples to go along with the [textbook](http://manipulation.csail.mit.edu/robot.html).  I recommend having both windows open, side-by-side!"
      ]
    },
    {
      "cell_type": "code",
      "execution_count": null,
      "metadata": {
        "colab": {},
        "colab_type": "code",
        "id": "eeMrMI0-1Dhu"
      },
      "outputs": [],
      "source": [
        "from pydrake.all import StartMeshcat\n",
        "\n",
        "from manipulation.scenarios import MakeManipulationStation\n"
      ]
    },
    {
      "cell_type": "code",
      "execution_count": null,
      "metadata": {},
      "outputs": [],
      "source": [
        "# Start the visualizer.\n",
        "meshcat = StartMeshcat()"
      ]
    },
    {
      "cell_type": "markdown",
      "metadata": {
        "colab_type": "text",
        "id": "wJWL-ldv5REK"
      },
      "source": [
        "# A simple bimanual manipulation example\n",
        "\n",
        "The `MakeManipulationStation` code will add all of the controller code / logic for you, even if you have multiple iiwa/wsg-pairs in the scene."
      ]
    },
    {
      "cell_type": "code",
      "execution_count": null,
      "metadata": {
        "colab": {},
        "colab_type": "code",
        "id": "9GSF52A8ExQa"
      },
      "outputs": [],
      "source": [
        "from pydrake.all import DiagramBuilder, MeshcatVisualizer, Simulator\n",
        "from IPython.display import SVG, display\n",
        "import pydot\n",
        "\n",
        "model_directives = \"\"\"\n",
        "directives:\n",
        "- add_model:\n",
        "    name: iiwa0\n",
        "    file: package://drake/manipulation/models/iiwa_description/iiwa7/iiwa7_no_collision.sdf\n",
        "    default_joint_positions:\n",
        "        iiwa_joint_1: [-1.57]\n",
        "        iiwa_joint_2: [0.1]\n",
        "        iiwa_joint_3: [0]\n",
        "        iiwa_joint_4: [-1.2]\n",
        "        iiwa_joint_5: [0]\n",
        "        iiwa_joint_6: [ 1.6]\n",
        "        iiwa_joint_7: [0]\n",
        "- add_weld:\n",
        "    parent: world\n",
        "    child: iiwa0::iiwa_link_0\n",
        "- add_model:\n",
        "    name: wsg0\n",
        "    file: package://drake/manipulation/models/wsg_50_description/sdf/schunk_wsg_50_with_tip.sdf\n",
        "- add_weld:\n",
        "    parent: iiwa0::iiwa_link_7\n",
        "    child: wsg0::body\n",
        "    X_PC:\n",
        "        translation: [0, 0, 0.09]\n",
        "        rotation: !Rpy { deg: [90, 0, 90]}\n",
        "- add_model:\n",
        "    name: iiwa1\n",
        "    file: package://drake/manipulation/models/iiwa_description/iiwa7/iiwa7_no_collision.sdf\n",
        "    default_joint_positions:\n",
        "        iiwa_joint_1: [-1.57]\n",
        "        iiwa_joint_2: [0.1]\n",
        "        iiwa_joint_3: [0]\n",
        "        iiwa_joint_4: [-1.2]\n",
        "        iiwa_joint_5: [0]\n",
        "        iiwa_joint_6: [ 1.6]\n",
        "        iiwa_joint_7: [0]\n",
        "- add_weld:\n",
        "    parent: world\n",
        "    child: iiwa1::iiwa_link_0\n",
        "    X_PC:\n",
        "        translation: [.6, 0, 0]\n",
        "        rotation: !Rpy { deg: [0, 0, 0]}\n",
        "- add_model:\n",
        "    name: wsg1\n",
        "    file: package://drake/manipulation/models/wsg_50_description/sdf/schunk_wsg_50_with_tip.sdf\n",
        "- add_weld:\n",
        "    parent: iiwa1::iiwa_link_7\n",
        "    child: wsg1::body\n",
        "    X_PC:\n",
        "        translation: [0, 0, 0.09]\n",
        "        rotation: !Rpy { deg: [90, 0, 90]}\n",
        "\n",
        "\"\"\"\n",
        "\n",
        "builder = DiagramBuilder()\n",
        "\n",
        "station = builder.AddSystem(\n",
        "    MakeManipulationStation(model_directives))\n",
        "plant = station.GetSubsystemByName(\"plant\")\n",
        "controller_plant = station.GetSubsystemByName(\n",
        "    \"iiwa0_controller\").get_multibody_plant_for_control()\n",
        "\n",
        "visualizer = MeshcatVisualizer.AddToBuilder(\n",
        "    builder, station.GetOutputPort(\"query_object\"), meshcat)\n",
        "\n",
        "diagram = builder.Build()\n",
        "\n",
        "display(SVG(\n",
        "    pydot.graph_from_dot_data(\n",
        "        diagram.GetGraphvizString(max_depth=1))[0].create_svg()))\n",
        "\n",
        "simulator = Simulator(diagram)\n",
        "context = simulator.get_mutable_context()\n",
        "station_context = station.GetMyMutableContextFromRoot(context)\n",
        "plant_context = plant.GetMyMutableContextFromRoot(context)\n",
        "\n",
        "q0 = plant.GetPositions(plant_context, plant.GetModelInstanceByName('iiwa0'))\n",
        "station.GetInputPort('iiwa0_position').FixValue(station_context, q0)\n",
        "station.GetInputPort('iiwa1_position').FixValue(station_context, q0)\n",
        "\n",
        "station.GetInputPort('wsg0_position').FixValue(station_context, [0])\n",
        "station.GetInputPort('wsg1_position').FixValue(station_context, [0])\n",
        "\n",
        "# Confirm that simulation works:\n",
        "simulator.AdvanceTo(0.1)\n",
        "\n"
      ]
    },
    {
      "cell_type": "code",
      "execution_count": null,
      "metadata": {
        "colab": {},
        "colab_type": "code",
        "id": "5SjOClhTltPk"
      },
      "outputs": [],
      "source": []
    }
  ],
  "metadata": {
    "colab": {
      "collapsed_sections": [],
      "name": "Robotic Manipulation - Let's get you a robot.ipynb",
      "provenance": [],
      "toc_visible": true
    },
    "kernelspec": {
      "display_name": "Python 3.10.8 ('env': venv)",
      "language": "python",
      "name": "python3"
    },
    "language_info": {
      "codemirror_mode": {
        "name": "ipython",
        "version": 3
      },
      "file_extension": ".py",
      "mimetype": "text/x-python",
      "name": "python",
      "nbconvert_exporter": "python",
      "pygments_lexer": "ipython3",
      "version": "3.10.8"
    },
    "vscode": {
      "interpreter": {
        "hash": "51853c7f9cded821d975a103cbd2331a78a62a77a1415e45fc0eefa8ddb1136e"
      }
    }
  },
  "nbformat": 4,
  "nbformat_minor": 2
}
